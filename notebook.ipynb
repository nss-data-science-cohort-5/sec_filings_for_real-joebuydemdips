{
 "cells": [
  {
   "cell_type": "code",
   "execution_count": 32,
   "metadata": {},
   "outputs": [],
   "source": [
    "import pandas as pd\n",
    "from bs4 import BeautifulSoup\n",
    "import glob"
   ]
  },
  {
   "cell_type": "code",
   "execution_count": 33,
   "metadata": {},
   "outputs": [],
   "source": [
    "filepaths = glob.glob('data/*.htm*')"
   ]
  },
  {
   "cell_type": "code",
   "execution_count": 60,
   "metadata": {},
   "outputs": [],
   "source": [
    "ten_ks = {}\n",
    "\n",
    "for filepath in filepaths:\n",
    "    with open(filepath, 'r') as f:\n",
    "        content = f.read()\n",
    "        soup = BeautifulSoup(content, 'html5lib')\n",
    "\n",
    "        # Kill all script and style elements\n",
    "        for script in soup(['script', 'style']):\n",
    "            script.extract()\n",
    "\n",
    "        # Get text    \n",
    "        text = soup.get_text()\n",
    "\n",
    "        # Break into lines and remove leading and trailing space on each\n",
    "        lines = (line.strip() for line in text.splitlines())\n",
    "\n",
    "        # Break multi-headlines into a line each\n",
    "        chunks = (phrase.strip() for line in lines for phrase in line.split(\"  \"))\n",
    "\n",
    "        # Drop blank lines\n",
    "        text = '\\n'.join(chunk for chunk in chunks if chunk)\n",
    "\n",
    "        # Append to dictionary\n",
    "        ten_ks[filepath] = text"
   ]
  }
 ],
 "metadata": {
  "interpreter": {
   "hash": "253a6a7ffe503a63d6144d7c0e3786644e136961ccf6a4a04ff8a549634eca3a"
  },
  "kernelspec": {
   "display_name": "Python 3.9.7 ('base')",
   "language": "python",
   "name": "python3"
  },
  "language_info": {
   "codemirror_mode": {
    "name": "ipython",
    "version": 3
   },
   "file_extension": ".py",
   "mimetype": "text/x-python",
   "name": "python",
   "nbconvert_exporter": "python",
   "pygments_lexer": "ipython3",
   "version": "3.9.7"
  },
  "orig_nbformat": 4
 },
 "nbformat": 4,
 "nbformat_minor": 2
}
